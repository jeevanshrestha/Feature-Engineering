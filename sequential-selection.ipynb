{
 "cells": [
  {
   "cell_type": "code",
   "execution_count": 1,
   "id": "14894c2b",
   "metadata": {
    "_cell_guid": "b1076dfc-b9ad-4769-8c92-a6c4dae69d19",
    "_uuid": "8f2839f25d086af736a60e9eeb907d3b93b6e0e5",
    "execution": {
     "iopub.execute_input": "2024-12-19T23:21:33.617808Z",
     "iopub.status.busy": "2024-12-19T23:21:33.617421Z",
     "iopub.status.idle": "2024-12-19T23:21:34.026009Z",
     "shell.execute_reply": "2024-12-19T23:21:34.024950Z"
    },
    "papermill": {
     "duration": 0.41413,
     "end_time": "2024-12-19T23:21:34.027986",
     "exception": false,
     "start_time": "2024-12-19T23:21:33.613856",
     "status": "completed"
    },
    "tags": []
   },
   "outputs": [],
   "source": [
    "# This Python 3 environment comes with many helpful analytics libraries installed\n",
    "# It is defined by the kaggle/python Docker image: https://github.com/kaggle/docker-python\n",
    "# For example, here's several helpful packages to load\n",
    "\n",
    "import numpy as np # linear algebra\n",
    "import pandas as pd # data processing, CSV file I/O (e.g. pd.read_csv)\n",
    "\n",
    "# Input data files are available in the read-only \"../input/\" directory\n",
    "# For example, running this (by clicking run or pressing Shift+Enter) will list all files under the input directory\n",
    "\n",
    "import os\n",
    "for dirname, _, filenames in os.walk('/kaggle/input'):\n",
    "    for filename in filenames:\n",
    "        print(os.path.join(dirname, filename))\n",
    "\n",
    "# You can write up to 20GB to the current directory (/kaggle/working/) that gets preserved as output when you create a version using \"Save & Run All\" \n",
    "# You can also write temporary files to /kaggle/temp/, but they won't be saved outside of the current session"
   ]
  },
  {
   "cell_type": "code",
   "execution_count": 2,
   "id": "aa03f532",
   "metadata": {
    "execution": {
     "iopub.execute_input": "2024-12-19T23:21:34.035915Z",
     "iopub.status.busy": "2024-12-19T23:21:34.035381Z",
     "iopub.status.idle": "2024-12-19T23:21:44.656845Z",
     "shell.execute_reply": "2024-12-19T23:21:44.655754Z"
    },
    "papermill": {
     "duration": 10.626509,
     "end_time": "2024-12-19T23:21:44.658902",
     "exception": false,
     "start_time": "2024-12-19T23:21:34.032393",
     "status": "completed"
    },
    "tags": []
   },
   "outputs": [
    {
     "name": "stdout",
     "output_type": "stream",
     "text": [
      "Selected features (Forward): [2, 4, 8]\n",
      "Selected features (Backward): [1, 4, 8]\n"
     ]
    }
   ],
   "source": [
    "from sklearn.feature_selection import SequentialFeatureSelector\n",
    "from sklearn.linear_model import LogisticRegression\n",
    "from sklearn.datasets import make_classification\n",
    "from sklearn.model_selection import train_test_split\n",
    "\n",
    "# Create a sample dataset\n",
    "X, y = make_classification(\n",
    "    n_samples=8000,\n",
    "    n_features=10,\n",
    "    n_informative=4,  # Ensure at least 4 informative features\n",
    "    n_classes=4,\n",
    "    random_state=42\n",
    ")\n",
    "X_train, X_test, y_train, y_test = train_test_split(X, y, test_size=0.3, random_state=42)\n",
    "\n",
    "# Initialize the model\n",
    "model = LogisticRegression(multi_class='multinomial', solver='lbfgs', max_iter=500)\n",
    "\n",
    "# Forward Selection\n",
    "sfs = SequentialFeatureSelector(model, n_features_to_select=3, direction='forward')\n",
    "sfs.fit(X_train, y_train)\n",
    "selected_features_forward = list(sfs.get_support(indices=True))  # Get indices of selected features\n",
    "print(\"Selected features (Forward):\", selected_features_forward) \n",
    "\n",
    "# Backward Selection\n",
    "sbs = SequentialFeatureSelector(model, n_features_to_select=3, direction='backward')\n",
    "sbs.fit(X_train, y_train)\n",
    "selected_features_backward = list(sbs.get_support(indices=True))  # Get indices of selected features\n",
    "print(\"Selected features (Backward):\", selected_features_backward) "
   ]
  },
  {
   "cell_type": "code",
   "execution_count": null,
   "id": "af607a24",
   "metadata": {
    "papermill": {
     "duration": 0.001554,
     "end_time": "2024-12-19T23:21:44.662535",
     "exception": false,
     "start_time": "2024-12-19T23:21:44.660981",
     "status": "completed"
    },
    "tags": []
   },
   "outputs": [],
   "source": []
  }
 ],
 "metadata": {
  "kaggle": {
   "accelerator": "none",
   "dataSources": [],
   "dockerImageVersionId": 30822,
   "isGpuEnabled": false,
   "isInternetEnabled": true,
   "language": "python",
   "sourceType": "notebook"
  },
  "kernelspec": {
   "display_name": "Python 3",
   "language": "python",
   "name": "python3"
  },
  "language_info": {
   "codemirror_mode": {
    "name": "ipython",
    "version": 3
   },
   "file_extension": ".py",
   "mimetype": "text/x-python",
   "name": "python",
   "nbconvert_exporter": "python",
   "pygments_lexer": "ipython3",
   "version": "3.10.12"
  },
  "papermill": {
   "default_parameters": {},
   "duration": 14.173519,
   "end_time": "2024-12-19T23:21:45.385772",
   "environment_variables": {},
   "exception": null,
   "input_path": "__notebook__.ipynb",
   "output_path": "__notebook__.ipynb",
   "parameters": {},
   "start_time": "2024-12-19T23:21:31.212253",
   "version": "2.6.0"
  }
 },
 "nbformat": 4,
 "nbformat_minor": 5
}
